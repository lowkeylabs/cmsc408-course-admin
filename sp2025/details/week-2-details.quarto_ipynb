{
  "cells": [
    {
      "cell_type": "markdown",
      "metadata": {},
      "source": [
        "---\n",
        "date: last-modified\n",
        "title: Week 2 - Details\n",
        "---"
      ],
      "id": "f9e069ab"
    },
    {
      "cell_type": "code",
      "metadata": {},
      "source": [
        "#| label: Loading canvas data\n",
        "from cnvsapi.config import config\n",
        "from cnvsapi.markup_utils import  expand_assignment, expand_page, expand_quiz, expand_file\n",
        "\n",
        "# Uncomment as necessary.  These take time to load so only use what you need.\n",
        "\n",
        "pages = config.get_pages()\n",
        "quizzes = config.get_quizzes()\n",
        "assignments = config.get_assignment_groups(include=['assignments']) # from Canvas\n",
        "#files = config.get_files()\n",
        "\n",
        "# Here is an example of how these are expanded.\n",
        "# expand_xxx( xxx, \"title\",\"resource name\", url_type, **kwargs )\n",
        "# url_type=\"anchor\" ->  <a href=\"resource name\" **kwargs>title</a>\n",
        "# url_type=\"img\" -> <img src=\"resource_name\" title=\"title\" **kwargs )\n",
        "#\n",
        "# expand_quiz(quizzes, \"Take the Pre-class survey\",\"pre-class survey\", url_type=\"anchor\", target=\"_blank\")\n",
        "# expand_page(pages, \"Join the course discord\",\"resource-course-discord\", url_type=\"anchor\", target=\"_blank\")\n",
        "# expand_assignment(assignments,\"Course Syllabus\",\"syllabus\",url_type=\"anchor\")\n",
        "# expand_file(\"Picture of me\",\"headshot-20210731.png\",url_type=\"img\", width=\"200px\")"
      ],
      "id": "Loading-canvas-data",
      "execution_count": null,
      "outputs": []
    },
    {
      "cell_type": "markdown",
      "metadata": {},
      "source": [
        "<p class=\"lead\">How do you craft a database? How do you represent the real world in a database?</p>\n",
        "\n",
        "The lectures this week will focus on designing databases and on the basics of entity-relationship modeling.  We'll be doing lots of\n",
        "examples to get practice.\n",
        "\n",
        "\n",
        "### Things to do this week\n"
      ],
      "id": "2503b544"
    },
    {
      "cell_type": "code",
      "metadata": {},
      "source": [
        "print(f\"\"\"\n",
        "1. <b>{expand_assignment(assignments,\"Deliverable 1 - Intros\",\"Deliverable 1 - Intros\",url_type=\"anchor\")}</b> - If you haven't already, complete project deliverable 1.  In this\n",
        "assignment you're introducint yourself  Harmonize and meeting others in the class. One goal is to find a partner for the semester-long project.\n",
        "2. <b>{expand_assignment(assignments,\"Deliverable 2 - Team formation\",\"deliverable 2 - team formation\",url_type=\"anchor\")}</b> - Once you find a partner, complete\n",
        "this on-line survey to tell me about your team.\n",
        "3. <b>{expand_quiz(quizzes, \"Practice Quiz 1\",\"practice quiz 1\", url_type=\"anchor\", target=\"_blank\")}</b> - Start Practice Quiz 1. You can\n",
        "take this quiz as many times as you like.  The *real* quiz is scheduled for next week, Week 3.  If you're comfy, you can take it as soon as it opens, no need to wait.\n",
        "4. <b>{expand_assignment(assignments,\"Homework 1 - Data Engineering Tool Review\",\"Homework 1 - DE Tool Review\",url_type=\"anchor\")}</b> - this is homework assignment is due Sunday.  \n",
        "Don't wait to the last minute. There is lots to do and tools to install.\n",
        "5. <b>{expand_assignment(assignments,\"Discussion 1 - ER Modeling\",\"Discussion 1 - ER modeling\",url_type=\"anchor\")}</b> - *Practice, practice, practice*.  This Harmonize discussion allows\n",
        "you to model a database using words, and get feedback from others in class. The discussions asks that you turn the tables, offering feedback to others on their database model.\n",
        "\n",
        "\"\"\")"
      ],
      "id": "4122a173",
      "execution_count": null,
      "outputs": []
    },
    {
      "cell_type": "code",
      "metadata": {},
      "source": [
        "# example of grid using the designplus kl_large_link_grid class.\n",
        "print(f\"\"\"\n",
        "<p>&nbsp;</p>\n",
        "### Course resources\n",
        "<ul class=\"kl_large_link_grid\">\n",
        "<li>{expand_page(pages,\"Course Instructor\",\"course-instructor\",url_type=\"anchor\")}</li>\n",
        "<li>{expand_assignment(assignments,\"Course Syllabus\",\"syllabus\",url_type=\"anchor\")}</li>\n",
        "<li>{expand_page(pages,\"Course Textbooks\",\"resource-textbooks\",url_type=\"anchor\")}</li>\n",
        "<li>{expand_page(pages,\"Student Resources\",\"resource-student-resources\",url_type=\"anchor\")}</li>\n",
        "<li>{expand_page(pages,\"Canvas Resources\",\"resource-canvas-resources\",url_type=\"anchor\")}</li>\n",
        "<li>{expand_page(pages,\"SAVE YOU HOURS&trade;\",\"resource-save-you-hours\",url_type=\"anchor\")}</li>\n",
        "</ul>\n",
        "\"\"\")"
      ],
      "id": "025bd886",
      "execution_count": null,
      "outputs": []
    },
    {
      "cell_type": "code",
      "metadata": {},
      "source": [
        "## This is an example of how one includes an image within the page.\n",
        "## Note that other html attributes (e.g., width=, height=, etc.) can be added\n",
        "## This will return a canvas-ready <img /> tag .\n",
        "#print(f\"\"\"\n",
        "#{expand_file(\"Picture of me\",\"headshot-20210731.png\",url_type=\"img\", width=\"200px\")}\n",
        "#\"\"\")"
      ],
      "id": "56d75a37",
      "execution_count": null,
      "outputs": []
    }
  ],
  "metadata": {
    "kernelspec": {
      "name": "python3",
      "language": "python",
      "display_name": "Python 3 (ipykernel)",
      "path": "/home/john/.cache/pypoetry/virtualenvs/cmsc408-course-admin-SiVgiy2p-py3.13/share/jupyter/kernels/python3"
    }
  },
  "nbformat": 4,
  "nbformat_minor": 5
}
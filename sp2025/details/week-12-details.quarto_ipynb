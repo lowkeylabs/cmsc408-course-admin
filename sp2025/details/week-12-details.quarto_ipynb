{
  "cells": [
    {
      "cell_type": "markdown",
      "metadata": {},
      "source": [
        "---\n",
        "date: last-modified\n",
        "title: Week 12 - Details\n",
        "---"
      ],
      "id": "1b80b315"
    },
    {
      "cell_type": "code",
      "metadata": {},
      "source": [
        "#| label: Loading canvas data\n",
        "from cnvsapi.config import config\n",
        "from cnvsapi.markup_utils import  expand_assignment, expand_page, expand_quiz, expand_file\n",
        "\n",
        "# Uncomment as necessary.  These take time to load so only use what you need.\n",
        "\n",
        "#pages = config.get_pages()\n",
        "#quizzes = config.get_quizzes()\n",
        "#assignments = config.get_assignment_groups(include=['assignments']) # from Canvas\n",
        "#files = config.get_files()\n",
        "\n",
        "# Here is an example of how these are expanded.\n",
        "# expand_xxx( xxx, \"title\",\"resource name\", url_type, **kwargs )\n",
        "# url_type=\"anchor\" ->  <a href=\"resource name\" **kwargs>title</a>\n",
        "# url_type=\"img\" -> <img src=\"resource_name\" title=\"title\" **kwargs )\n",
        "#\n",
        "# expand_quiz(quizzes, \"Take the Pre-class survey\",\"pre-class survey\", url_type=\"anchor\", target=\"_blank\")\n",
        "# expand_page(pages, \"Join the course discord\",\"resource-course-discord\", url_type=\"anchor\", target=\"_blank\")\n",
        "# expand_assignment(assignments,\"Course Syllabus\",\"syllabus\",url_type=\"anchor\")\n",
        "# expand_file(\"Picture of me\",\"headshot-20210731.png\",url_type=\"img\", width=\"200px\")"
      ],
      "id": "Loading-canvas-data",
      "execution_count": null,
      "outputs": []
    },
    {
      "cell_type": "markdown",
      "metadata": {},
      "source": [
        "<p class=\"lead\">Welcome to a new week!</p>\n",
        "\n",
        "*Details will be updated closer to the week.*\n"
      ],
      "id": "23f8438d"
    },
    {
      "cell_type": "code",
      "metadata": {},
      "source": [
        "# example of grid using the designplus kl_large_link_grid class.\n",
        "#print(f\"\"\"\n",
        "#<ul class=\"kl_large_link_grid\">\n",
        "#<li>{expand_page(pages,\"Course Instructor\",\"course-instructor\",url_type=\"anchor\")}</li>\n",
        "#<li>{expand_assignment(assignments,\"Course Syllabus\",\"syllabus\",url_type=\"anchor\")}</li>\n",
        "#<li>{expand_page(pages,\"Course Textbooks\",\"resource-textbooks\",url_type=\"anchor\")}</li>\n",
        "#<li>{expand_page(pages,\"Student Resources\",\"resource-student-resources\",url_type=\"anchor\")}</li>\n",
        "#<li>{expand_page(pages,\"Canvas Resources\",\"resource-canvas-resources\",url_type=\"anchor\")}</li>\n",
        "#<li>{expand_page(pages,\"SAVE YOU HOURS&trade;\",\"resource-save-you-hours\",url_type=\"anchor\")}</li>\n",
        "#</ul>\n",
        "#\"\"\")"
      ],
      "id": "5c54ad24",
      "execution_count": null,
      "outputs": []
    },
    {
      "cell_type": "code",
      "metadata": {},
      "source": [
        "## This is an example of how one includes an image within the page.\n",
        "## Note that other html attributes (e.g., width=, height=, etc.) can be added\n",
        "## This will return a canvas-ready <img /> tag .\n",
        "#print(f\"\"\"\n",
        "#{expand_file(\"Picture of me\",\"headshot-20210731.png\",url_type=\"img\", width=\"200px\")}\n",
        "#\"\"\")"
      ],
      "id": "73977ab0",
      "execution_count": null,
      "outputs": []
    }
  ],
  "metadata": {
    "kernelspec": {
      "name": "python3",
      "language": "python",
      "display_name": "Python 3 (ipykernel)",
      "path": "/home/john/.cache/pypoetry/virtualenvs/cmsc408-course-admin-SiVgiy2p-py3.13/share/jupyter/kernels/python3"
    }
  },
  "nbformat": 4,
  "nbformat_minor": 5
}
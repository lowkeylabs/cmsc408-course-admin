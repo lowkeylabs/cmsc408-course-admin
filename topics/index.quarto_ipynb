{
  "cells": [
    {
      "cell_type": "markdown",
      "metadata": {},
      "source": [
        "---\n",
        "title: Available Topics\n",
        "format:\n",
        "  html:\n",
        "    toc: true\n",
        "    html-math-method: katex\n",
        "---"
      ],
      "id": "eac98b4d"
    },
    {
      "cell_type": "code",
      "metadata": {},
      "source": [
        "#| echo: false\n",
        "#| output: asis\n",
        "\n",
        "import os\n",
        "import glob\n",
        "\n",
        "files_to_skip = ['index.qmd','sample-topic.qmd','template1.qmd']\n",
        "# Use glob to find all *.qmd files\n",
        "qmd_files = glob.glob(os.path.join(\".\", \"*.qmd\"))\n",
        "# Filter out files that begin with \"_\"\n",
        "qmd_files = [f for f in qmd_files if (not os.path.basename(f).startswith(\"_\")) and (not os.path.basename(f) in files_to_skip)]\n",
        "\n",
        "print(\"<div class='column-page'>\\n\\n\")\n",
        "\n",
        "for qmd_file in qmd_files:\n",
        "    file_name = os.path.basename(qmd_file)\n",
        "    base = os.path.splitext(file_name)[0]\n",
        "    new_file_name = f\"{base}.html\"\n",
        "    print(f'<iframe src=\"{new_file_name}\" width=\"450\" height=\"250\"></iframe>\\n\\n')\n",
        "\n",
        "print(\"</div>\")"
      ],
      "id": "4b926037",
      "execution_count": null,
      "outputs": []
    }
  ],
  "metadata": {
    "kernelspec": {
      "name": "python3",
      "language": "python",
      "display_name": "Python 3 (ipykernel)",
      "path": "C:\\Users\\jdleonard\\AppData\\Local\\pypoetry\\Cache\\virtualenvs\\cmsc427-yciDUe4a-py3.13\\share\\jupyter\\kernels\\python3"
    }
  },
  "nbformat": 4,
  "nbformat_minor": 5
}
{
  "cells": [
    {
      "cell_type": "markdown",
      "metadata": {},
      "source": [
        "---\n",
        "title: Set Operators\n",
        "tasl:\n",
        "    source: fa2023\\lectures\\lect06-relational-algebra-1.qmd\n",
        "    tags:\n",
        "    - lecture\n",
        "    - lecture-06\n",
        "    topic: Set Operators\n",
        "---\n",
        "\n",
        "\n",
        "# Set Operators\n",
        "\n",
        "## Set Operators"
      ],
      "id": "27deb05a"
    },
    {
      "cell_type": "code",
      "metadata": {},
      "source": [
        "#| echo: false\n",
        "#| eval: true\n",
        "import matplotlib.pyplot as plt\n",
        "from matplotlib_venn import venn2, venn3\n",
        "\n",
        "# For a 2-set Venn diagram\n",
        "venn = venn2(subsets=(5, 5, 2 ),set_labels=(\"\",\"\") )\n",
        "\n",
        "venn.get_label_by_id('10').set_text('A')\n",
        "venn.get_label_by_id('10').set_fontsize(20)\n",
        "venn.get_label_by_id('10').set_color('white')\n",
        "venn.get_label_by_id('01').set_text('B')\n",
        "venn.get_label_by_id('01').set_fontsize(20)\n",
        "venn.get_label_by_id('11').set_text('')\n",
        "\n",
        "venn.get_patch_by_id('10').set_color('red')\n",
        "venn.get_patch_by_id('10').set_edgecolor('black')\n",
        "venn.get_patch_by_id('10').set_linewidth(4)\n",
        "venn.get_patch_by_id('01').set_color('white')\n",
        "venn.get_patch_by_id('01').set_edgecolor('black')\n",
        "venn.get_patch_by_id('11').set_color('white')\n",
        "venn.get_patch_by_id('11').set_edgecolor('black')\n",
        "\n",
        "# Uncomment the following lines for a 3-set Venn diagram\n",
        "# venn3(subsets=(10, 8, 12, 5, 3, 2, 1), set_labels=('Set A', 'Set B', 'Set C'))\n",
        "\n",
        "# Display the plot\n",
        "plt.gca().set_facecolor('none')\n",
        "plt.gcf().patch.set_facecolor('none')\n",
        "plt.show()"
      ],
      "id": "e9014d05",
      "execution_count": null,
      "outputs": []
    }
  ],
  "metadata": {
    "kernelspec": {
      "name": "python3",
      "language": "python",
      "display_name": "Python 3 (ipykernel)",
      "path": "C:\\Users\\jdleonard\\AppData\\Local\\pypoetry\\Cache\\virtualenvs\\cmsc427-yciDUe4a-py3.13\\share\\jupyter\\kernels\\python3"
    }
  },
  "nbformat": 4,
  "nbformat_minor": 5
}
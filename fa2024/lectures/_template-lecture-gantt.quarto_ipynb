{
  "cells": [
    {
      "cell_type": "markdown",
      "metadata": {},
      "source": [
        "## You are here\n"
      ],
      "id": "3939921f"
    },
    {
      "cell_type": "code",
      "metadata": {},
      "source": [
        "#| echo: false\n",
        "#| output: asis\n",
        "\n",
        "from cnvsapi.build_utils import get_current_week_from_lecture_id\n",
        "# Set the lecture ID and number of rows to show at the top of this file!\n",
        "\n",
        "from datetime import datetime, timedelta\n",
        "week_id = int(get_current_week_from_lecture_id( lecture_id ))\n",
        "\n",
        "original_date_str = \"1/7/2024\"\n",
        "original_date = datetime.strptime(original_date_str, \"%m/%d/%Y\")\n",
        "new_date = original_date + timedelta(weeks=(week_id - 1) )\n",
        "new_date_str = new_date.strftime(\"%m/%d/%Y\").lstrip(\"0\").replace(\"/0\", \"/\")\n",
        "\n",
        "# Define the content you want to write to the file\n",
        "content = f\"\"\"\n",
        "gantt\n",
        "    dateFormat  M/DD/YYYY\n",
        "    axisFormat  %W\n",
        "\n",
        "    section    \n",
        "    Week {week_id} : crit, weekblock, {new_date_str}, 1w\n",
        "\n",
        "    section Topics\n",
        "    ER Models : m1, 1/7/2024, 3w\n",
        "    Rel. Algebra: m4, after m1, 2w\n",
        "    Normal forms: m5, after m4, 3w\n",
        "    SQL : m6, after m5, 4w\n",
        "    Adv. SQL: m7, after m6, 5w\n",
        "\"\"\"\n",
        "\n",
        "# Open the file in write mode ('w' will create the file if it doesn't exist or overwrite it if it does)\n",
        "with open(\"week-mermaid.mmd\", \"w\") as file:\n",
        "    file.write(content)"
      ],
      "id": "f97b7994",
      "execution_count": null,
      "outputs": []
    },
    {
      "cell_type": "markdown",
      "metadata": {},
      "source": [
        "```{mermaid}\n",
        "%%| echo: false\n",
        "%%| file: week-mermaid.mmd\n",
        "```"
      ],
      "id": "0f543ee4"
    }
  ],
  "metadata": {
    "kernelspec": {
      "name": "python3",
      "language": "python",
      "display_name": "Python 3 (ipykernel)",
      "path": "C:\\Users\\jdleonard\\AppData\\Local\\pypoetry\\Cache\\virtualenvs\\cmsc408-course-admin-2w6zuzd0-py3.12\\share\\jupyter\\kernels\\python3"
    }
  },
  "nbformat": 4,
  "nbformat_minor": 5
}